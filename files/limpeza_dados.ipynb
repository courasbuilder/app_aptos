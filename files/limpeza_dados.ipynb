{
 "cells": [
  {
   "cell_type": "code",
   "execution_count": 2,
   "metadata": {},
   "outputs": [],
   "source": [
    "# Importanto bibliotecas utilizadas\n",
    "import pandas as pd\n",
    "import numpy as np\n",
    "import re"
   ]
  },
  {
   "cell_type": "code",
   "execution_count": 5,
   "metadata": {},
   "outputs": [
    {
     "ename": "FileNotFoundError",
     "evalue": "[Errno 2] No such file or directory: '/datasets/aptos.csv'",
     "output_type": "error",
     "traceback": [
      "\u001b[1;31m---------------------------------------------------------------------------\u001b[0m",
      "\u001b[1;31mFileNotFoundError\u001b[0m                         Traceback (most recent call last)",
      "\u001b[1;32mc:\\Users\\pedri\\Desktop\\Data Science\\streamlit_app\\v1.1\\files\\limpeza_dados.ipynb Célula 2\u001b[0m line \u001b[0;36m2\n\u001b[0;32m      <a href='vscode-notebook-cell:/c%3A/Users/pedri/Desktop/Data%20Science/streamlit_app/v1.1/files/limpeza_dados.ipynb#W1sZmlsZQ%3D%3D?line=0'>1</a>\u001b[0m \u001b[39m# Importando o dataset\u001b[39;00m\n\u001b[1;32m----> <a href='vscode-notebook-cell:/c%3A/Users/pedri/Desktop/Data%20Science/streamlit_app/v1.1/files/limpeza_dados.ipynb#W1sZmlsZQ%3D%3D?line=1'>2</a>\u001b[0m aptos \u001b[39m=\u001b[39m pd\u001b[39m.\u001b[39;49mread_csv(\u001b[39m'\u001b[39;49m\u001b[39m/datasets/aptos.csv\u001b[39;49m\u001b[39m'\u001b[39;49m)\n\u001b[0;32m      <a href='vscode-notebook-cell:/c%3A/Users/pedri/Desktop/Data%20Science/streamlit_app/v1.1/files/limpeza_dados.ipynb#W1sZmlsZQ%3D%3D?line=2'>3</a>\u001b[0m aptos\u001b[39m.\u001b[39mhead()\n",
      "File \u001b[1;32mc:\\Users\\pedri\\anaconda3\\envs\\app\\Lib\\site-packages\\pandas\\io\\parsers\\readers.py:948\u001b[0m, in \u001b[0;36mread_csv\u001b[1;34m(filepath_or_buffer, sep, delimiter, header, names, index_col, usecols, dtype, engine, converters, true_values, false_values, skipinitialspace, skiprows, skipfooter, nrows, na_values, keep_default_na, na_filter, verbose, skip_blank_lines, parse_dates, infer_datetime_format, keep_date_col, date_parser, date_format, dayfirst, cache_dates, iterator, chunksize, compression, thousands, decimal, lineterminator, quotechar, quoting, doublequote, escapechar, comment, encoding, encoding_errors, dialect, on_bad_lines, delim_whitespace, low_memory, memory_map, float_precision, storage_options, dtype_backend)\u001b[0m\n\u001b[0;32m    935\u001b[0m kwds_defaults \u001b[39m=\u001b[39m _refine_defaults_read(\n\u001b[0;32m    936\u001b[0m     dialect,\n\u001b[0;32m    937\u001b[0m     delimiter,\n\u001b[1;32m   (...)\u001b[0m\n\u001b[0;32m    944\u001b[0m     dtype_backend\u001b[39m=\u001b[39mdtype_backend,\n\u001b[0;32m    945\u001b[0m )\n\u001b[0;32m    946\u001b[0m kwds\u001b[39m.\u001b[39mupdate(kwds_defaults)\n\u001b[1;32m--> 948\u001b[0m \u001b[39mreturn\u001b[39;00m _read(filepath_or_buffer, kwds)\n",
      "File \u001b[1;32mc:\\Users\\pedri\\anaconda3\\envs\\app\\Lib\\site-packages\\pandas\\io\\parsers\\readers.py:611\u001b[0m, in \u001b[0;36m_read\u001b[1;34m(filepath_or_buffer, kwds)\u001b[0m\n\u001b[0;32m    608\u001b[0m _validate_names(kwds\u001b[39m.\u001b[39mget(\u001b[39m\"\u001b[39m\u001b[39mnames\u001b[39m\u001b[39m\"\u001b[39m, \u001b[39mNone\u001b[39;00m))\n\u001b[0;32m    610\u001b[0m \u001b[39m# Create the parser.\u001b[39;00m\n\u001b[1;32m--> 611\u001b[0m parser \u001b[39m=\u001b[39m TextFileReader(filepath_or_buffer, \u001b[39m*\u001b[39;49m\u001b[39m*\u001b[39;49mkwds)\n\u001b[0;32m    613\u001b[0m \u001b[39mif\u001b[39;00m chunksize \u001b[39mor\u001b[39;00m iterator:\n\u001b[0;32m    614\u001b[0m     \u001b[39mreturn\u001b[39;00m parser\n",
      "File \u001b[1;32mc:\\Users\\pedri\\anaconda3\\envs\\app\\Lib\\site-packages\\pandas\\io\\parsers\\readers.py:1448\u001b[0m, in \u001b[0;36mTextFileReader.__init__\u001b[1;34m(self, f, engine, **kwds)\u001b[0m\n\u001b[0;32m   1445\u001b[0m     \u001b[39mself\u001b[39m\u001b[39m.\u001b[39moptions[\u001b[39m\"\u001b[39m\u001b[39mhas_index_names\u001b[39m\u001b[39m\"\u001b[39m] \u001b[39m=\u001b[39m kwds[\u001b[39m\"\u001b[39m\u001b[39mhas_index_names\u001b[39m\u001b[39m\"\u001b[39m]\n\u001b[0;32m   1447\u001b[0m \u001b[39mself\u001b[39m\u001b[39m.\u001b[39mhandles: IOHandles \u001b[39m|\u001b[39m \u001b[39mNone\u001b[39;00m \u001b[39m=\u001b[39m \u001b[39mNone\u001b[39;00m\n\u001b[1;32m-> 1448\u001b[0m \u001b[39mself\u001b[39m\u001b[39m.\u001b[39m_engine \u001b[39m=\u001b[39m \u001b[39mself\u001b[39;49m\u001b[39m.\u001b[39;49m_make_engine(f, \u001b[39mself\u001b[39;49m\u001b[39m.\u001b[39;49mengine)\n",
      "File \u001b[1;32mc:\\Users\\pedri\\anaconda3\\envs\\app\\Lib\\site-packages\\pandas\\io\\parsers\\readers.py:1705\u001b[0m, in \u001b[0;36mTextFileReader._make_engine\u001b[1;34m(self, f, engine)\u001b[0m\n\u001b[0;32m   1703\u001b[0m     \u001b[39mif\u001b[39;00m \u001b[39m\"\u001b[39m\u001b[39mb\u001b[39m\u001b[39m\"\u001b[39m \u001b[39mnot\u001b[39;00m \u001b[39min\u001b[39;00m mode:\n\u001b[0;32m   1704\u001b[0m         mode \u001b[39m+\u001b[39m\u001b[39m=\u001b[39m \u001b[39m\"\u001b[39m\u001b[39mb\u001b[39m\u001b[39m\"\u001b[39m\n\u001b[1;32m-> 1705\u001b[0m \u001b[39mself\u001b[39m\u001b[39m.\u001b[39mhandles \u001b[39m=\u001b[39m get_handle(\n\u001b[0;32m   1706\u001b[0m     f,\n\u001b[0;32m   1707\u001b[0m     mode,\n\u001b[0;32m   1708\u001b[0m     encoding\u001b[39m=\u001b[39;49m\u001b[39mself\u001b[39;49m\u001b[39m.\u001b[39;49moptions\u001b[39m.\u001b[39;49mget(\u001b[39m\"\u001b[39;49m\u001b[39mencoding\u001b[39;49m\u001b[39m\"\u001b[39;49m, \u001b[39mNone\u001b[39;49;00m),\n\u001b[0;32m   1709\u001b[0m     compression\u001b[39m=\u001b[39;49m\u001b[39mself\u001b[39;49m\u001b[39m.\u001b[39;49moptions\u001b[39m.\u001b[39;49mget(\u001b[39m\"\u001b[39;49m\u001b[39mcompression\u001b[39;49m\u001b[39m\"\u001b[39;49m, \u001b[39mNone\u001b[39;49;00m),\n\u001b[0;32m   1710\u001b[0m     memory_map\u001b[39m=\u001b[39;49m\u001b[39mself\u001b[39;49m\u001b[39m.\u001b[39;49moptions\u001b[39m.\u001b[39;49mget(\u001b[39m\"\u001b[39;49m\u001b[39mmemory_map\u001b[39;49m\u001b[39m\"\u001b[39;49m, \u001b[39mFalse\u001b[39;49;00m),\n\u001b[0;32m   1711\u001b[0m     is_text\u001b[39m=\u001b[39;49mis_text,\n\u001b[0;32m   1712\u001b[0m     errors\u001b[39m=\u001b[39;49m\u001b[39mself\u001b[39;49m\u001b[39m.\u001b[39;49moptions\u001b[39m.\u001b[39;49mget(\u001b[39m\"\u001b[39;49m\u001b[39mencoding_errors\u001b[39;49m\u001b[39m\"\u001b[39;49m, \u001b[39m\"\u001b[39;49m\u001b[39mstrict\u001b[39;49m\u001b[39m\"\u001b[39;49m),\n\u001b[0;32m   1713\u001b[0m     storage_options\u001b[39m=\u001b[39;49m\u001b[39mself\u001b[39;49m\u001b[39m.\u001b[39;49moptions\u001b[39m.\u001b[39;49mget(\u001b[39m\"\u001b[39;49m\u001b[39mstorage_options\u001b[39;49m\u001b[39m\"\u001b[39;49m, \u001b[39mNone\u001b[39;49;00m),\n\u001b[0;32m   1714\u001b[0m )\n\u001b[0;32m   1715\u001b[0m \u001b[39massert\u001b[39;00m \u001b[39mself\u001b[39m\u001b[39m.\u001b[39mhandles \u001b[39mis\u001b[39;00m \u001b[39mnot\u001b[39;00m \u001b[39mNone\u001b[39;00m\n\u001b[0;32m   1716\u001b[0m f \u001b[39m=\u001b[39m \u001b[39mself\u001b[39m\u001b[39m.\u001b[39mhandles\u001b[39m.\u001b[39mhandle\n",
      "File \u001b[1;32mc:\\Users\\pedri\\anaconda3\\envs\\app\\Lib\\site-packages\\pandas\\io\\common.py:863\u001b[0m, in \u001b[0;36mget_handle\u001b[1;34m(path_or_buf, mode, encoding, compression, memory_map, is_text, errors, storage_options)\u001b[0m\n\u001b[0;32m    858\u001b[0m \u001b[39melif\u001b[39;00m \u001b[39misinstance\u001b[39m(handle, \u001b[39mstr\u001b[39m):\n\u001b[0;32m    859\u001b[0m     \u001b[39m# Check whether the filename is to be opened in binary mode.\u001b[39;00m\n\u001b[0;32m    860\u001b[0m     \u001b[39m# Binary mode does not support 'encoding' and 'newline'.\u001b[39;00m\n\u001b[0;32m    861\u001b[0m     \u001b[39mif\u001b[39;00m ioargs\u001b[39m.\u001b[39mencoding \u001b[39mand\u001b[39;00m \u001b[39m\"\u001b[39m\u001b[39mb\u001b[39m\u001b[39m\"\u001b[39m \u001b[39mnot\u001b[39;00m \u001b[39min\u001b[39;00m ioargs\u001b[39m.\u001b[39mmode:\n\u001b[0;32m    862\u001b[0m         \u001b[39m# Encoding\u001b[39;00m\n\u001b[1;32m--> 863\u001b[0m         handle \u001b[39m=\u001b[39m \u001b[39mopen\u001b[39;49m(\n\u001b[0;32m    864\u001b[0m             handle,\n\u001b[0;32m    865\u001b[0m             ioargs\u001b[39m.\u001b[39;49mmode,\n\u001b[0;32m    866\u001b[0m             encoding\u001b[39m=\u001b[39;49mioargs\u001b[39m.\u001b[39;49mencoding,\n\u001b[0;32m    867\u001b[0m             errors\u001b[39m=\u001b[39;49merrors,\n\u001b[0;32m    868\u001b[0m             newline\u001b[39m=\u001b[39;49m\u001b[39m\"\u001b[39;49m\u001b[39m\"\u001b[39;49m,\n\u001b[0;32m    869\u001b[0m         )\n\u001b[0;32m    870\u001b[0m     \u001b[39melse\u001b[39;00m:\n\u001b[0;32m    871\u001b[0m         \u001b[39m# Binary mode\u001b[39;00m\n\u001b[0;32m    872\u001b[0m         handle \u001b[39m=\u001b[39m \u001b[39mopen\u001b[39m(handle, ioargs\u001b[39m.\u001b[39mmode)\n",
      "\u001b[1;31mFileNotFoundError\u001b[0m: [Errno 2] No such file or directory: '/datasets/aptos.csv'"
     ]
    }
   ],
   "source": [
    "# Importando o dataset\n",
    "aptos = pd.read_csv('aptos.csv')\n",
    "aptos.head()"
   ]
  },
  {
   "cell_type": "code",
   "execution_count": 3,
   "metadata": {},
   "outputs": [
    {
     "name": "stdout",
     "output_type": "stream",
     "text": [
      "Atualmente o dataset está com 400 linhas e 13 colunas.\n"
     ]
    }
   ],
   "source": [
    "# Verificando o tamanho do dataset:\n",
    "aptos.shape\n",
    "print(f'Atualmente o dataset está com {aptos.shape[0]} linhas e {aptos.shape[1]} colunas.')"
   ]
  },
  {
   "cell_type": "code",
   "execution_count": 4,
   "metadata": {},
   "outputs": [
    {
     "data": {
      "text/plain": [
       "Unnamed: 0       int64\n",
       "titulo          object\n",
       "endereco        object\n",
       "preco           object\n",
       "quartos          int64\n",
       "suites         float64\n",
       "banheiros      float64\n",
       "vagas          float64\n",
       "privativos      object\n",
       "total           object\n",
       "infra           object\n",
       "coordenadas     object\n",
       "link            object\n",
       "dtype: object"
      ]
     },
     "execution_count": 4,
     "metadata": {},
     "output_type": "execute_result"
    }
   ],
   "source": [
    "# Verificando os tipos de dados que estão nas colunas:\n",
    "aptos.dtypes"
   ]
  },
  {
   "cell_type": "code",
   "execution_count": 1,
   "metadata": {},
   "outputs": [
    {
     "ename": "NameError",
     "evalue": "name 'aptos' is not defined",
     "output_type": "error",
     "traceback": [
      "\u001b[1;31m---------------------------------------------------------------------------\u001b[0m",
      "\u001b[1;31mNameError\u001b[0m                                 Traceback (most recent call last)",
      "\u001b[1;32mc:\\Users\\pedri\\Desktop\\Data Science\\streamlit_app\\v1.1\\files\\limpeza_dados.ipynb Célula 5\u001b[0m line \u001b[0;36m2\n\u001b[0;32m      <a href='vscode-notebook-cell:/c%3A/Users/pedri/Desktop/Data%20Science/streamlit_app/v1.1/files/limpeza_dados.ipynb#W4sZmlsZQ%3D%3D?line=0'>1</a>\u001b[0m \u001b[39m# Verificando a presença de valores nulos nas colunas:\u001b[39;00m\n\u001b[1;32m----> <a href='vscode-notebook-cell:/c%3A/Users/pedri/Desktop/Data%20Science/streamlit_app/v1.1/files/limpeza_dados.ipynb#W4sZmlsZQ%3D%3D?line=1'>2</a>\u001b[0m aptos\u001b[39m.\u001b[39misnull()\u001b[39m.\u001b[39msum()\n\u001b[0;32m      <a href='vscode-notebook-cell:/c%3A/Users/pedri/Desktop/Data%20Science/streamlit_app/v1.1/files/limpeza_dados.ipynb#W4sZmlsZQ%3D%3D?line=2'>3</a>\u001b[0m \u001b[39m# Verificando os tipos de dados que estão nas colunas:\u001b[39;00m\n\u001b[0;32m      <a href='vscode-notebook-cell:/c%3A/Users/pedri/Desktop/Data%20Science/streamlit_app/v1.1/files/limpeza_dados.ipynb#W4sZmlsZQ%3D%3D?line=3'>4</a>\u001b[0m aptos\u001b[39m.\u001b[39mdtypes\n",
      "\u001b[1;31mNameError\u001b[0m: name 'aptos' is not defined"
     ]
    }
   ],
   "source": [
    "# Verificando a presença de valores nulos nas colunas:\n",
    "aptos.isnull().sum()\n"
   ]
  },
  {
   "cell_type": "code",
   "execution_count": 6,
   "metadata": {},
   "outputs": [],
   "source": [
    "# Função para limpar a variável preço: \n",
    "def limpar_preco(preco):\n",
    "    # Retirar da frente o 'R$'\n",
    "    preco_sem_r = re.sub(r'^R\\$','', preco)\n",
    "    # Retirar os pontos:\n",
    "    preco_sem_pontos = re.sub(r'\\.','', preco_sem_r)\n",
    "    # Substituir a vírgula por poonto e retornar no retormato float\n",
    "    preco_em_float = re.sub(r',','.', preco_sem_pontos)\n",
    "    return float(preco_em_float)\n",
    "# Aplicando na variável preço:\n",
    "aptos.preco = aptos.preco.apply(limpar_preco)\n"
   ]
  },
  {
   "cell_type": "code",
   "execution_count": 7,
   "metadata": {},
   "outputs": [],
   "source": [
    "# Função para limpar as variáveis que determinam área e possuem \"M2\" (metro quadrado) no final.\n",
    "def extrair_metros_quadrados(texto):\n",
    "    # Se for nulo, vai continuar sendo nulo\n",
    "    metragem = texto\n",
    "    # Tenta retirar o 'M2' do final para os dados que apresentarem e transforma para inteiro.\n",
    "    try:\n",
    "        match = re.search(r'(\\d+) M2', texto)\n",
    "        metragem = int(match.group(1)) \n",
    "    except: \n",
    "        pass\n",
    "    return metragem\n",
    "# Aplica a função na variável 'privativos' e na variável 'totais'\n",
    "aptos.privativos = aptos.privativos.apply(extrair_metros_quadrados)\n",
    "aptos.total = aptos.total.apply(extrair_metros_quadrados)"
   ]
  },
  {
   "cell_type": "code",
   "execution_count": 8,
   "metadata": {},
   "outputs": [],
   "source": [
    "# Função para extrair as coordenadas dos links do Google Maps:\n",
    "def extrair_coordenadas(link):\n",
    "    # Se não possuir a informação, returna nulo.\n",
    "    if link is None or pd.isna(link):\n",
    "        return None, None\n",
    "    # Padrão da regex\n",
    "    padrao = r'q=(-?\\d+\\.\\d+), (-?\\d+\\.\\d+)'\n",
    "    # Busca pelo padrão e salva as duas informações de latitude e longitude\n",
    "    dados = re.search(padrao, link)\n",
    "    # Defini as novas variáveis e retorna a dupla:\n",
    "    if dados:\n",
    "        latitude = float(dados.group(1))\n",
    "        longitude = float(dados.group(2))\n",
    "        return latitude, longitude\n",
    "    else:\n",
    "        return None, None\n",
    "# Cria duas novas colunas (lat e long) para receberem os valores de latitude e longitude.\n",
    "aptos['lat'], aptos['long'] = zip(*aptos['coordenadas'].map(extrair_coordenadas))\n",
    "\n"
   ]
  },
  {
   "cell_type": "code",
   "execution_count": 9,
   "metadata": {},
   "outputs": [],
   "source": [
    "# Função para separar o endereço em 'Rua com número', 'Bairro' e 'Cidade'\n",
    "def separar_endereco(endereco):\n",
    "    # Inicializa as variáveis para as partes do endereço\n",
    "    numero_rua = None\n",
    "    bairro = None\n",
    "    cidade = None\n",
    "\n",
    "    # Use regex para extrair as partes do endereço\n",
    "    dados = re.match(r'^(.*?), (\\d+), (.*?) - (.*?)$', endereco)\n",
    "    # Armazenar os valores e retorna:\n",
    "    if dados:\n",
    "        numero_rua = dados.group(1) + \", \" + dados.group(2)\n",
    "        bairro = dados.group(3)\n",
    "        cidade = dados.group(4)\n",
    "    return numero_rua, bairro, cidade\n",
    "# Cria três novas colunas para receberem as três informações:\n",
    "aptos['numero_rua'], aptos['bairro'], aptos['cidade'] = zip(*aptos['endereco'].apply(separar_endereco))\n"
   ]
  },
  {
   "cell_type": "code",
   "execution_count": 111,
   "metadata": {},
   "outputs": [
    {
     "data": {
      "text/plain": [
       "Itajaí/SC                292\n",
       "Navegantes/SC             61\n",
       "Balneário Camboriú/SC     46\n",
       "Camboriú/SC                1\n",
       "Name: cidade, dtype: int64"
      ]
     },
     "execution_count": 111,
     "metadata": {},
     "output_type": "execute_result"
    }
   ],
   "source": [
    "# Verifica as cidades que estão presentes os imóveis:\n",
    "aptos.cidade.value_counts()"
   ]
  },
  {
   "cell_type": "code",
   "execution_count": 10,
   "metadata": {},
   "outputs": [],
   "source": [
    "# Junta todos os itens de infraestrutura dos condomínios em um único conjunto:\n",
    "aptos['infra'] = aptos['infra'].apply(lambda x: eval(x) if isinstance(x, str) else x)\n",
    "\n",
    "infra_total = list(set(item for lista in aptos['infra'] for item in lista))"
   ]
  },
  {
   "cell_type": "code",
   "execution_count": 11,
   "metadata": {},
   "outputs": [],
   "source": [
    "# Verificar os condomínios que possuem 'Piscina Coletiva' na lista de infraestrutura:\n",
    "def check_piscina(lista):\n",
    "    # Define como 0 a ausência de piscina\n",
    "    valor = 0\n",
    "    # Varre as linhas da coluna buscando por piscina e caso seja verdadeiro atribui 1\n",
    "    if 'Piscina Coletiva' in lista:\n",
    "        valor = 1\n",
    "    return valor\n",
    "# Cria a coluna booleana da piscina.\n",
    "aptos['piscina'] = aptos.infra.apply(check_piscina)"
   ]
  },
  {
   "cell_type": "code",
   "execution_count": 12,
   "metadata": {},
   "outputs": [],
   "source": [
    "# Semelhante ao caso anterior, verifica a presença de 'Gás Central' OU 'Aquecimento Central' nos condomínios:\n",
    "def check_gas(lista):\n",
    "    valor = 0\n",
    "    if 'Gás Central' in lista or 'Aquecimento Central' in lista:\n",
    "        valor = 1\n",
    "    return valor\n",
    "# Cria a nova coluna 'gas_central' com 0 para ausência e 1 para presença:\n",
    "aptos['gas_central'] = aptos.infra.apply(check_gas)"
   ]
  },
  {
   "cell_type": "code",
   "execution_count": 13,
   "metadata": {},
   "outputs": [],
   "source": [
    "# Função para verificar se o condomínio possui elevador:\n",
    "def check_elevador(lista):\n",
    "    valor = 0\n",
    "    if 'Elevador' in lista:\n",
    "        valor = 1\n",
    "    return valor\n",
    "# Cria a variável 'elevador' e determina a presença ou não de elevadores no prédio:\n",
    "aptos['elevador'] = aptos.infra.apply(check_elevador)"
   ]
  },
  {
   "cell_type": "code",
   "execution_count": 14,
   "metadata": {},
   "outputs": [],
   "source": [
    "# Função para verificar se o condomínio possui 'Salão de Festas':\n",
    "def check_salao(lista):\n",
    "    valor = 0\n",
    "    if 'Salão de Festas' in lista:\n",
    "        valor = 1\n",
    "    return valor\n",
    "# Cria a nova variável 'salao':\n",
    "aptos['salao'] = aptos.infra.apply(check_salao)"
   ]
  },
  {
   "cell_type": "code",
   "execution_count": 15,
   "metadata": {},
   "outputs": [],
   "source": [
    "# Função para verificar a presença de 'Academia' ou 'Sala Fitness' no condomínio:\n",
    "def check_academia(lista):\n",
    "    valor = 0\n",
    "    if 'Sala Fitness' in lista or 'Academia' in lista:\n",
    "        valor = 1\n",
    "    return valor\n",
    "# Cria a nova variável 'academia':\n",
    "aptos['academia'] = aptos.infra.apply(check_academia)"
   ]
  },
  {
   "cell_type": "code",
   "execution_count": 18,
   "metadata": {},
   "outputs": [
    {
     "name": "stderr",
     "output_type": "stream",
     "text": [
      "C:\\Users\\pedri\\AppData\\Local\\Temp\\ipykernel_24428\\3092448350.py:5: FutureWarning: Dropping of nuisance columns in DataFrame reductions (with 'numeric_only=None') is deprecated; in a future version this will raise TypeError.  Select only valid columns before calling the reduction.\n",
      "  aptos.max()\n"
     ]
    },
    {
     "data": {
      "text/plain": [
       "Unnamed: 0                                                   398\n",
       "titulo                   Apartamento 5 Quartos Praia Brava 350m²\n",
       "endereco        Rua Áustria, 144, Nações - Balneário Camboriú/SC\n",
       "preco                                                 14895000.0\n",
       "quartos                                                        5\n",
       "suites                                                       5.0\n",
       "banheiros                                                    6.0\n",
       "vagas                                                       21.0\n",
       "privativos                                                 519.0\n",
       "total                                                      689.0\n",
       "infra          [Água, Brinquedoteca, Churrasqueira Condominia...\n",
       "link           https://maximoveis.com.br/imovel/9947/apartame...\n",
       "lat                                                    -26.85471\n",
       "long                                                  -48.629043\n",
       "numero_rua                                      Rua Áustria, 144\n",
       "bairro                                       Várzea Do Ranchinho\n",
       "cidade                                             Navegantes/SC\n",
       "piscina                                                        1\n",
       "gas_central                                                    1\n",
       "elevador                                                       1\n",
       "salao                                                          1\n",
       "academia                                                       1\n",
       "dtype: object"
      ]
     },
     "execution_count": 18,
     "metadata": {},
     "output_type": "execute_result"
    }
   ],
   "source": [
    "# Retirando os apartamentos que possuem mais de 5 quartos, são pouquíssimos casos (3) e não temos interesse nos\n",
    "# apartamentos que fogem muito do padrão. Um deles, inclusive, na verdade é um conjunto de kitnets.\n",
    "\n",
    "aptos = aptos[aptos['quartos']<=5]\n"
   ]
  },
  {
   "cell_type": "code",
   "execution_count": 20,
   "metadata": {},
   "outputs": [],
   "source": [
    "aptos.vagas.value_counts()\n",
    "# Retirar um imóvel que possui 21 vagas de garagem. Isso está bem fora na normalidade:\n",
    "aptos = aptos[aptos['vagas'] <= 6]"
   ]
  },
  {
   "cell_type": "code",
   "execution_count": 39,
   "metadata": {},
   "outputs": [
    {
     "name": "stdout",
     "output_type": "stream",
     "text": [
      "IQR Preco: 1160409.1725.\n",
      "Limite Inferior: -1212687.99625.\n",
      "Limite Superior: 3428948.69375.\n",
      "Outliers de preço: 31.\n",
      "% do dataset perdida em outliers 7.9%.\n"
     ]
    }
   ],
   "source": [
    "# Vamos retirar os imóveis muito luxuosos e possuem valores extremamente altos utilizando a remoção de outliers por IQR.\n",
    "q1_preco = aptos.preco.quantile(.25)\n",
    "q3_preco = aptos.preco.quantile(.75)\n",
    "iqr_preco = q3_preco - q1_preco\n",
    "\n",
    "inf_preco = q1_preco - (1.5*iqr_preco)\n",
    "sup_preco = q3_preco + (1.5*iqr_preco)\n",
    "\n",
    "print(f'IQR Preco: {iqr_preco}.')\n",
    "print(f'Limite Inferior: {inf_preco}.')\n",
    "print(f'Limite Superior: {sup_preco}.')\n",
    "\n",
    "outliers_preco = len(aptos[aptos.preco > sup_preco])\n",
    "print(f'Outliers de preço: {outliers_preco}.')\n",
    "print(f'% do dataset perdida em outliers {round(outliers_preco/aptos.shape[0],3)*100}%.')\n",
    "\n",
    "aptos_copy = aptos.copy()\n",
    "aptos_copy.drop(aptos[aptos.preco > sup_preco].index, axis = 0, inplace = True)"
   ]
  },
  {
   "cell_type": "code",
   "execution_count": 40,
   "metadata": {},
   "outputs": [],
   "source": [
    "# Exclui algumas alunos que não são mais necessárias:\n",
    "df_limpo = aptos_copy.drop(['Unnamed: 0', 'endereco','infra','coordenadas',], axis = 1)"
   ]
  },
  {
   "cell_type": "code",
   "execution_count": 41,
   "metadata": {},
   "outputs": [
    {
     "data": {
      "text/plain": [
       "(361, 19)"
      ]
     },
     "execution_count": 41,
     "metadata": {},
     "output_type": "execute_result"
    }
   ],
   "source": [
    "# Tamanho do dataset atualmente:\n",
    "df_limpo.shape"
   ]
  },
  {
   "cell_type": "code",
   "execution_count": 42,
   "metadata": {},
   "outputs": [],
   "source": [
    "# Filtra apenas os apartamentos na cidade de Itajaí/SC:\n",
    "df_limpo_itajai = df_limpo.loc[df_limpo['cidade'] == 'Itajaí/SC']"
   ]
  },
  {
   "cell_type": "code",
   "execution_count": 43,
   "metadata": {},
   "outputs": [
    {
     "data": {
      "text/plain": [
       "titulo          0\n",
       "preco           0\n",
       "quartos         0\n",
       "suites         49\n",
       "banheiros       1\n",
       "vagas           0\n",
       "privativos      0\n",
       "total          70\n",
       "link            0\n",
       "lat             8\n",
       "long            8\n",
       "numero_rua      0\n",
       "bairro          0\n",
       "cidade          0\n",
       "piscina         0\n",
       "gas_central     0\n",
       "elevador        0\n",
       "salao           0\n",
       "academia        0\n",
       "dtype: int64"
      ]
     },
     "execution_count": 43,
     "metadata": {},
     "output_type": "execute_result"
    }
   ],
   "source": [
    "# Verifica a presença de valores nulos em cada coluna:\n",
    "df_limpo_itajai.isnull().sum()"
   ]
  },
  {
   "cell_type": "code",
   "execution_count": 44,
   "metadata": {},
   "outputs": [],
   "source": [
    "# Pela alta presença de valores nulos na variável 'total' que represente a metragem total do apartamento, vamos excluir essa coluna tbm. \n",
    "df_limpo_itajai = df_limpo_itajai.drop('total', axis = 1)"
   ]
  },
  {
   "cell_type": "code",
   "execution_count": 45,
   "metadata": {},
   "outputs": [],
   "source": [
    "# Verificamos no site do anúncio que o apartamento que possui valor nulo nos banheiros, na verdade tem 4 suítes. Colocamos a presença de 5 banheiros.\n",
    "df_limpo_itajai.loc[132,'banheiros'] = 5"
   ]
  },
  {
   "cell_type": "code",
   "execution_count": 46,
   "metadata": {},
   "outputs": [],
   "source": [
    "# Preenchemos os valores nulos das suítes com 0, pois quando não se tem suítes, o item não aparece no anúncio do site.\n",
    "df_limpo_itajai['suites'].fillna(0, inplace = True)"
   ]
  },
  {
   "cell_type": "code",
   "execution_count": 47,
   "metadata": {},
   "outputs": [],
   "source": [
    "# Definimos como 0 os apartamentos que possuem valores nulos nas vagas de carro, são apenas 3 imóveis e não deve impactar no modelo de qualquer forma.\n",
    "df_limpo_itajai['vagas'].fillna(0, inplace = True)\n"
   ]
  },
  {
   "cell_type": "code",
   "execution_count": 48,
   "metadata": {},
   "outputs": [
    {
     "data": {
      "text/plain": [
       "titulo          object\n",
       "preco          float64\n",
       "quartos          int64\n",
       "suites           int64\n",
       "banheiros        int64\n",
       "vagas            int64\n",
       "privativos       int64\n",
       "link            object\n",
       "lat            float64\n",
       "long           float64\n",
       "numero_rua      object\n",
       "bairro          object\n",
       "cidade          object\n",
       "piscina          int64\n",
       "gas_central      int64\n",
       "elevador         int64\n",
       "salao            int64\n",
       "academia         int64\n",
       "dtype: object"
      ]
     },
     "execution_count": 48,
     "metadata": {},
     "output_type": "execute_result"
    }
   ],
   "source": [
    "# Converter os tipos de algumas colunas que estão em formato 'float' para 'int'. \n",
    "colunas_converter = ['suites','banheiros','vagas','privativos']\n",
    "df_limpo_itajai[colunas_converter] = df_limpo_itajai[colunas_converter].astype('int64')\n",
    "# Verifica os tipos de dados em cada coluna:\n",
    "df_limpo_itajai.dtypes"
   ]
  },
  {
   "cell_type": "code",
   "execution_count": 49,
   "metadata": {},
   "outputs": [],
   "source": [
    "# Determina o dataset final pós limpeza e tratamento dos dados:\n",
    "df_final = df_limpo_itajai.copy()"
   ]
  },
  {
   "cell_type": "code",
   "execution_count": 50,
   "metadata": {},
   "outputs": [],
   "source": [
    "# Salva o novo dataset:\n",
    "df_final.to_csv('df_final.csv')"
   ]
  },
  {
   "cell_type": "code",
   "execution_count": null,
   "metadata": {},
   "outputs": [],
   "source": []
  }
 ],
 "metadata": {
  "kernelspec": {
   "display_name": "base",
   "language": "python",
   "name": "python3"
  },
  "language_info": {
   "codemirror_mode": {
    "name": "ipython",
    "version": 3
   },
   "file_extension": ".py",
   "mimetype": "text/x-python",
   "name": "python",
   "nbconvert_exporter": "python",
   "pygments_lexer": "ipython3",
   "version": "3.11.5"
  },
  "orig_nbformat": 4
 },
 "nbformat": 4,
 "nbformat_minor": 2
}
