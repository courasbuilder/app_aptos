{
 "cells": [
  {
   "cell_type": "code",
   "execution_count": 4,
   "metadata": {},
   "outputs": [],
   "source": [
    "# Importando Bibliotecas:\n",
    "import pandas as pd\n",
    "import numpy as np\n",
    "import joblib\n",
    "from sklearn.model_selection import train_test_split\n",
    "import category_encoders as ce\n",
    "from sklearn.preprocessing import StandardScaler,MinMaxScaler\n",
    "from sklearn.ensemble import RandomForestRegressor\n",
    "from sklearn.svm import SVR\n",
    "from sklearn.linear_model import LinearRegression, Ridge, Lasso\n",
    "from xgboost import XGBRegressor\n",
    "from sklearn.neighbors import KNeighborsRegressor\n",
    "import matplotlib.pyplot as plt\n",
    "from sklearn.metrics import mean_absolute_error, mean_squared_error, mean_absolute_percentage_error, r2_score\n",
    "from sklearn.model_selection import GridSearchCV"
   ]
  },
  {
   "cell_type": "code",
   "execution_count": 5,
   "metadata": {},
   "outputs": [
    {
     "data": {
      "text/plain": [
       "Index(['Unnamed: 0', 'titulo', 'preco', 'quartos', 'suites', 'banheiros',\n",
       "       'vagas', 'privativos', 'link', 'lat', 'long', 'numero_rua', 'bairro',\n",
       "       'cidade', 'piscina', 'gas_central', 'elevador', 'salao', 'academia'],\n",
       "      dtype='object')"
      ]
     },
     "execution_count": 5,
     "metadata": {},
     "output_type": "execute_result"
    }
   ],
   "source": [
    "# Importando o dataframe:\n",
    "df = pd.read_csv('df_final.csv')\n",
    "df.columns"
   ]
  },
  {
   "cell_type": "code",
   "execution_count": 6,
   "metadata": {},
   "outputs": [
    {
     "data": {
      "text/html": [
       "<div>\n",
       "<style scoped>\n",
       "    .dataframe tbody tr th:only-of-type {\n",
       "        vertical-align: middle;\n",
       "    }\n",
       "\n",
       "    .dataframe tbody tr th {\n",
       "        vertical-align: top;\n",
       "    }\n",
       "\n",
       "    .dataframe thead th {\n",
       "        text-align: right;\n",
       "    }\n",
       "</style>\n",
       "<table border=\"1\" class=\"dataframe\">\n",
       "  <thead>\n",
       "    <tr style=\"text-align: right;\">\n",
       "      <th></th>\n",
       "      <th>preco</th>\n",
       "      <th>quartos</th>\n",
       "      <th>suites</th>\n",
       "      <th>banheiros</th>\n",
       "      <th>vagas</th>\n",
       "      <th>privativos</th>\n",
       "      <th>bairro</th>\n",
       "      <th>piscina</th>\n",
       "      <th>gas_central</th>\n",
       "      <th>elevador</th>\n",
       "      <th>salao</th>\n",
       "      <th>academia</th>\n",
       "    </tr>\n",
       "  </thead>\n",
       "  <tbody>\n",
       "    <tr>\n",
       "      <th>0</th>\n",
       "      <td>880000.00</td>\n",
       "      <td>3</td>\n",
       "      <td>1</td>\n",
       "      <td>2</td>\n",
       "      <td>2</td>\n",
       "      <td>79</td>\n",
       "      <td>Fazenda</td>\n",
       "      <td>1</td>\n",
       "      <td>1</td>\n",
       "      <td>1</td>\n",
       "      <td>1</td>\n",
       "      <td>1</td>\n",
       "    </tr>\n",
       "    <tr>\n",
       "      <th>1</th>\n",
       "      <td>490000.00</td>\n",
       "      <td>2</td>\n",
       "      <td>1</td>\n",
       "      <td>2</td>\n",
       "      <td>1</td>\n",
       "      <td>69</td>\n",
       "      <td>São João</td>\n",
       "      <td>1</td>\n",
       "      <td>0</td>\n",
       "      <td>1</td>\n",
       "      <td>1</td>\n",
       "      <td>1</td>\n",
       "    </tr>\n",
       "    <tr>\n",
       "      <th>2</th>\n",
       "      <td>255000.00</td>\n",
       "      <td>2</td>\n",
       "      <td>0</td>\n",
       "      <td>1</td>\n",
       "      <td>1</td>\n",
       "      <td>49</td>\n",
       "      <td>Itaipava</td>\n",
       "      <td>1</td>\n",
       "      <td>0</td>\n",
       "      <td>0</td>\n",
       "      <td>1</td>\n",
       "      <td>0</td>\n",
       "    </tr>\n",
       "    <tr>\n",
       "      <th>3</th>\n",
       "      <td>420000.00</td>\n",
       "      <td>3</td>\n",
       "      <td>0</td>\n",
       "      <td>1</td>\n",
       "      <td>1</td>\n",
       "      <td>72</td>\n",
       "      <td>Centro</td>\n",
       "      <td>0</td>\n",
       "      <td>0</td>\n",
       "      <td>0</td>\n",
       "      <td>1</td>\n",
       "      <td>0</td>\n",
       "    </tr>\n",
       "    <tr>\n",
       "      <th>4</th>\n",
       "      <td>250000.00</td>\n",
       "      <td>2</td>\n",
       "      <td>0</td>\n",
       "      <td>1</td>\n",
       "      <td>1</td>\n",
       "      <td>54</td>\n",
       "      <td>Carvalho</td>\n",
       "      <td>1</td>\n",
       "      <td>0</td>\n",
       "      <td>0</td>\n",
       "      <td>1</td>\n",
       "      <td>0</td>\n",
       "    </tr>\n",
       "    <tr>\n",
       "      <th>...</th>\n",
       "      <td>...</td>\n",
       "      <td>...</td>\n",
       "      <td>...</td>\n",
       "      <td>...</td>\n",
       "      <td>...</td>\n",
       "      <td>...</td>\n",
       "      <td>...</td>\n",
       "      <td>...</td>\n",
       "      <td>...</td>\n",
       "      <td>...</td>\n",
       "      <td>...</td>\n",
       "      <td>...</td>\n",
       "    </tr>\n",
       "    <tr>\n",
       "      <th>265</th>\n",
       "      <td>2400000.00</td>\n",
       "      <td>3</td>\n",
       "      <td>3</td>\n",
       "      <td>5</td>\n",
       "      <td>3</td>\n",
       "      <td>155</td>\n",
       "      <td>Centro</td>\n",
       "      <td>1</td>\n",
       "      <td>0</td>\n",
       "      <td>1</td>\n",
       "      <td>1</td>\n",
       "      <td>1</td>\n",
       "    </tr>\n",
       "    <tr>\n",
       "      <th>266</th>\n",
       "      <td>755000.00</td>\n",
       "      <td>2</td>\n",
       "      <td>1</td>\n",
       "      <td>1</td>\n",
       "      <td>1</td>\n",
       "      <td>55</td>\n",
       "      <td>Praia Brava</td>\n",
       "      <td>1</td>\n",
       "      <td>1</td>\n",
       "      <td>1</td>\n",
       "      <td>1</td>\n",
       "      <td>1</td>\n",
       "    </tr>\n",
       "    <tr>\n",
       "      <th>267</th>\n",
       "      <td>3056529.06</td>\n",
       "      <td>3</td>\n",
       "      <td>3</td>\n",
       "      <td>4</td>\n",
       "      <td>2</td>\n",
       "      <td>193</td>\n",
       "      <td>Fazendinha</td>\n",
       "      <td>1</td>\n",
       "      <td>0</td>\n",
       "      <td>1</td>\n",
       "      <td>1</td>\n",
       "      <td>1</td>\n",
       "    </tr>\n",
       "    <tr>\n",
       "      <th>268</th>\n",
       "      <td>2713440.00</td>\n",
       "      <td>3</td>\n",
       "      <td>3</td>\n",
       "      <td>4</td>\n",
       "      <td>2</td>\n",
       "      <td>126</td>\n",
       "      <td>Praia Brava</td>\n",
       "      <td>1</td>\n",
       "      <td>0</td>\n",
       "      <td>1</td>\n",
       "      <td>1</td>\n",
       "      <td>0</td>\n",
       "    </tr>\n",
       "    <tr>\n",
       "      <th>269</th>\n",
       "      <td>1342024.13</td>\n",
       "      <td>2</td>\n",
       "      <td>2</td>\n",
       "      <td>3</td>\n",
       "      <td>2</td>\n",
       "      <td>82</td>\n",
       "      <td>Praia Brava</td>\n",
       "      <td>1</td>\n",
       "      <td>0</td>\n",
       "      <td>1</td>\n",
       "      <td>1</td>\n",
       "      <td>1</td>\n",
       "    </tr>\n",
       "  </tbody>\n",
       "</table>\n",
       "<p>270 rows × 12 columns</p>\n",
       "</div>"
      ],
      "text/plain": [
       "          preco  quartos  suites  banheiros  vagas  privativos       bairro  \\\n",
       "0     880000.00        3       1          2      2          79      Fazenda   \n",
       "1     490000.00        2       1          2      1          69     São João   \n",
       "2     255000.00        2       0          1      1          49     Itaipava   \n",
       "3     420000.00        3       0          1      1          72       Centro   \n",
       "4     250000.00        2       0          1      1          54     Carvalho   \n",
       "..          ...      ...     ...        ...    ...         ...          ...   \n",
       "265  2400000.00        3       3          5      3         155       Centro   \n",
       "266   755000.00        2       1          1      1          55  Praia Brava   \n",
       "267  3056529.06        3       3          4      2         193   Fazendinha   \n",
       "268  2713440.00        3       3          4      2         126  Praia Brava   \n",
       "269  1342024.13        2       2          3      2          82  Praia Brava   \n",
       "\n",
       "     piscina  gas_central  elevador  salao  academia  \n",
       "0          1            1         1      1         1  \n",
       "1          1            0         1      1         1  \n",
       "2          1            0         0      1         0  \n",
       "3          0            0         0      1         0  \n",
       "4          1            0         0      1         0  \n",
       "..       ...          ...       ...    ...       ...  \n",
       "265        1            0         1      1         1  \n",
       "266        1            1         1      1         1  \n",
       "267        1            0         1      1         1  \n",
       "268        1            0         1      1         0  \n",
       "269        1            0         1      1         1  \n",
       "\n",
       "[270 rows x 12 columns]"
      ]
     },
     "execution_count": 6,
     "metadata": {},
     "output_type": "execute_result"
    }
   ],
   "source": [
    "# Excluindo colunas desnecessárias para o modelo:\n",
    "df.drop(['Unnamed: 0','titulo','link','lat','long','numero_rua','cidade'], axis = 1, inplace=True)\n",
    "df"
   ]
  },
  {
   "cell_type": "code",
   "execution_count": 7,
   "metadata": {},
   "outputs": [
    {
     "name": "stdout",
     "output_type": "stream",
     "text": [
      "O dataset de treino ficou com dimensões (189, 11) enquanto o nosso target de treino ficou (189,).\n",
      "O dataset de test ficou com dimensões (81, 11) enquanto o nosso target de teste ficou (81,).\n"
     ]
    }
   ],
   "source": [
    "# Separando os dados em treino - teste:\n",
    "X_train, X_test, y_train, y_test = train_test_split(df.drop(['preco'], axis = 1), df['preco'], test_size = 0.30)\n",
    "\n",
    "print(f'O dataset de treino ficou com dimensões {X_train.shape} enquanto o nosso target de treino ficou {y_train.shape}.')\n",
    "print(f'O dataset de test ficou com dimensões {X_test.shape} enquanto o nosso target de teste ficou {y_test.shape}.')"
   ]
  },
  {
   "cell_type": "code",
   "execution_count": 8,
   "metadata": {},
   "outputs": [],
   "source": [
    "# Aplicando Target Encoder na variável 'bairro':\n",
    "\n",
    "target_encoder = ce.TargetEncoder()\n",
    "X_train_encoded = target_encoder.fit_transform(X_train[['bairro']], y_train)\n",
    "X_train_encoded = X_train_encoded.join(X_train.drop('bairro', axis = 1))\n",
    "\n",
    "# Aplicando MinMaxScaler nas variáveis numéricas:\n",
    "\n",
    "scaler = MinMaxScaler()\n",
    "X_train_scaled = scaler.fit_transform(X_train_encoded)\n",
    "\n",
    "# Aplicando Target Encoder no Test:\n",
    "X_test_encoded = target_encoder.transform(X_test[['bairro']])\n",
    "X_test_encoded = X_test_encoded.join(X_test.drop('bairro', axis = 1))\n",
    "\n",
    "# Aplicando MinMaxScaler no Test:\n",
    "X_test_scaled = scaler.transform(X_test_encoded)\n",
    "\n"
   ]
  },
  {
   "cell_type": "code",
   "execution_count": 9,
   "metadata": {},
   "outputs": [
    {
     "data": {
      "text/html": [
       "<div>\n",
       "<style scoped>\n",
       "    .dataframe tbody tr th:only-of-type {\n",
       "        vertical-align: middle;\n",
       "    }\n",
       "\n",
       "    .dataframe tbody tr th {\n",
       "        vertical-align: top;\n",
       "    }\n",
       "\n",
       "    .dataframe thead th {\n",
       "        text-align: right;\n",
       "    }\n",
       "</style>\n",
       "<table border=\"1\" class=\"dataframe\">\n",
       "  <thead>\n",
       "    <tr style=\"text-align: right;\">\n",
       "      <th></th>\n",
       "      <th>Modelo</th>\n",
       "      <th>MAE</th>\n",
       "      <th>MSE</th>\n",
       "      <th>MAPE</th>\n",
       "      <th>R-squared</th>\n",
       "    </tr>\n",
       "  </thead>\n",
       "  <tbody>\n",
       "    <tr>\n",
       "      <th>0</th>\n",
       "      <td>Regressão Linear Múltipla</td>\n",
       "      <td>284134.301057</td>\n",
       "      <td>1.807324e+11</td>\n",
       "      <td>0.274044</td>\n",
       "      <td>0.742496</td>\n",
       "    </tr>\n",
       "    <tr>\n",
       "      <th>1</th>\n",
       "      <td>Regressão Ridge</td>\n",
       "      <td>286617.035256</td>\n",
       "      <td>1.869220e+11</td>\n",
       "      <td>0.261333</td>\n",
       "      <td>0.733677</td>\n",
       "    </tr>\n",
       "    <tr>\n",
       "      <th>2</th>\n",
       "      <td>Regressão Lasso</td>\n",
       "      <td>284132.254803</td>\n",
       "      <td>1.807328e+11</td>\n",
       "      <td>0.274037</td>\n",
       "      <td>0.742495</td>\n",
       "    </tr>\n",
       "    <tr>\n",
       "      <th>3</th>\n",
       "      <td>SVR</td>\n",
       "      <td>600674.115534</td>\n",
       "      <td>8.418041e+11</td>\n",
       "      <td>0.555160</td>\n",
       "      <td>-0.199387</td>\n",
       "    </tr>\n",
       "    <tr>\n",
       "      <th>4</th>\n",
       "      <td>Random Forest Regressor</td>\n",
       "      <td>183933.119795</td>\n",
       "      <td>1.154941e+11</td>\n",
       "      <td>0.154313</td>\n",
       "      <td>0.835446</td>\n",
       "    </tr>\n",
       "    <tr>\n",
       "      <th>5</th>\n",
       "      <td>K-Nearest Neighbors</td>\n",
       "      <td>272243.478148</td>\n",
       "      <td>2.152120e+11</td>\n",
       "      <td>0.211999</td>\n",
       "      <td>0.693370</td>\n",
       "    </tr>\n",
       "    <tr>\n",
       "      <th>6</th>\n",
       "      <td>XGBoost Regressor</td>\n",
       "      <td>196532.697616</td>\n",
       "      <td>1.133328e+11</td>\n",
       "      <td>0.159523</td>\n",
       "      <td>0.838526</td>\n",
       "    </tr>\n",
       "  </tbody>\n",
       "</table>\n",
       "</div>"
      ],
      "text/plain": [
       "                      Modelo            MAE           MSE      MAPE  R-squared\n",
       "0  Regressão Linear Múltipla  284134.301057  1.807324e+11  0.274044   0.742496\n",
       "1            Regressão Ridge  286617.035256  1.869220e+11  0.261333   0.733677\n",
       "2            Regressão Lasso  284132.254803  1.807328e+11  0.274037   0.742495\n",
       "3                        SVR  600674.115534  8.418041e+11  0.555160  -0.199387\n",
       "4    Random Forest Regressor  183933.119795  1.154941e+11  0.154313   0.835446\n",
       "5        K-Nearest Neighbors  272243.478148  2.152120e+11  0.211999   0.693370\n",
       "6          XGBoost Regressor  196532.697616  1.133328e+11  0.159523   0.838526"
      ]
     },
     "execution_count": 9,
     "metadata": {},
     "output_type": "execute_result"
    }
   ],
   "source": [
    "# Função para testar vários modelos:\n",
    "def modelos_and_metricas(X_train, X_test, y_train, y_test):\n",
    "    # Modelos:\n",
    "    modelos = {\n",
    "        'Regressão Linear Múltipla':LinearRegression(),\n",
    "        'Regressão Ridge': Ridge(),\n",
    "        'Regressão Lasso': Lasso(),\n",
    "        'SVR':SVR(),\n",
    "        'Random Forest Regressor': RandomForestRegressor(),\n",
    "        'K-Nearest Neighbors': KNeighborsRegressor(),\n",
    "        'XGBoost Regressor': XGBRegressor()\n",
    "    }\n",
    "    resultados = []\n",
    "    # Resultados de cada modelo:\n",
    "    for nome_modelo, modelo in modelos.items():\n",
    "        modelo.fit(X_train, y_train)\n",
    "        y_pred = modelo.predict(X_test)\n",
    "\n",
    "        mae = mean_absolute_error(y_test,y_pred)\n",
    "        mse = mean_squared_error(y_test, y_pred)\n",
    "        mape = mean_absolute_percentage_error(y_test, y_pred)\n",
    "        r2 = r2_score(y_test,y_pred)\n",
    "\n",
    "        resultado = {\n",
    "            'Modelo': nome_modelo,\n",
    "            'MAE': mae,\n",
    "            'MSE': mse,\n",
    "            'MAPE': mape,\n",
    "            'R-squared':r2\n",
    "        }\n",
    "        # Salvando os resultados\n",
    "        resultados.append(resultado)\n",
    "    resultados_df = pd.DataFrame(resultados)\n",
    "    return resultados_df\n",
    "\n",
    "resultados = modelos_and_metricas(X_train_scaled, X_test_scaled, y_train, y_test)\n",
    "resultados"
   ]
  },
  {
   "cell_type": "code",
   "execution_count": 10,
   "metadata": {},
   "outputs": [
    {
     "name": "stdout",
     "output_type": "stream",
     "text": [
      "Fitting 4 folds for each of 20 candidates, totalling 80 fits\n"
     ]
    },
    {
     "data": {
      "text/plain": [
       "GridSearchCV(cv=4, estimator=RandomForestRegressor(),\n",
       "             param_grid={'max_depth': [4, 5, 6, 7],\n",
       "                         'n_estimators': [20, 40, 60, 80, 100]},\n",
       "             pre_dispatch=None, return_train_score=True,\n",
       "             scoring='neg_mean_absolute_error', verbose=1)"
      ]
     },
     "execution_count": 10,
     "metadata": {},
     "output_type": "execute_result"
    }
   ],
   "source": [
    "# Instanciando o melhor modelo:\n",
    "rf = RandomForestRegressor()\n",
    "# Hiperparâmetros para testar:\n",
    "param = {'max_depth':[4,5,6,7], 'n_estimators':[20,40,60,80,100]}\n",
    "# Cross-Validation\n",
    "cv_rf = GridSearchCV(rf, param_grid = param, scoring = 'neg_mean_absolute_error', n_jobs = None,\n",
    "                       refit = True, cv = 4, verbose = 1, pre_dispatch = None, error_score = np.nan,\n",
    "                       return_train_score = True)\n",
    "\n",
    "# Treinando a Validação Cruzada:\n",
    "cv_rf.fit(X_train_scaled,y_train)\n",
    "\n"
   ]
  },
  {
   "cell_type": "code",
   "execution_count": 11,
   "metadata": {},
   "outputs": [
    {
     "name": "stdout",
     "output_type": "stream",
     "text": [
      "Os melhores parâmetros para a Random Forest são: {'max_depth': 7, 'n_estimators': 20}.\n"
     ]
    }
   ],
   "source": [
    "# Buscando os melhores parâmetros da Validação Cruzada:\n",
    "cv_rf_results = pd.DataFrame(cv_rf.cv_results_)\n",
    "print(f'Os melhores parâmetros para a Random Forest são: {cv_rf.best_params_}.')\n"
   ]
  },
  {
   "cell_type": "code",
   "execution_count": 12,
   "metadata": {},
   "outputs": [],
   "source": [
    "# Utilizando o modelo tunado:\n",
    "rf_final = RandomForestRegressor(max_depth = 6, n_estimators = 60)\n",
    "rf_final.fit(X_train_scaled, y_train)\n",
    "y_pred = rf_final.predict(X_test_scaled)"
   ]
  },
  {
   "cell_type": "code",
   "execution_count": 13,
   "metadata": {},
   "outputs": [
    {
     "name": "stdout",
     "output_type": "stream",
     "text": [
      "Resultados do Random Forest Regressor pós Cross Validation\n",
      "MAE : 198390.60197785945.\n",
      "MSE : 123038253186.02348.\n",
      "MAPE : 0.16767063195362056.\n",
      "R-Squared : 0.8246973860335136.\n"
     ]
    }
   ],
   "source": [
    "# Obtendo as métricas da aplicação do modelo:\n",
    "mae = mean_absolute_error(y_test,y_pred)\n",
    "mse = mean_squared_error(y_test, y_pred)\n",
    "mape = mean_absolute_percentage_error(y_test, y_pred)\n",
    "r2 = r2_score(y_test,y_pred)\n",
    "\n",
    "print('Resultados do Random Forest Regressor pós Cross Validation')\n",
    "print(f'MAE : {mae}.')\n",
    "print(f'MSE : {mse}.')\n",
    "print(f'MAPE : {mape}.')\n",
    "print(f'R-Squared : {r2}.')\n"
   ]
  },
  {
   "cell_type": "code",
   "execution_count": 84,
   "metadata": {},
   "outputs": [
    {
     "ename": "TypeError",
     "evalue": "unique() takes 1 positional argument but 2 were given",
     "output_type": "error",
     "traceback": [
      "\u001b[1;31m---------------------------------------------------------------------------\u001b[0m",
      "\u001b[1;31mTypeError\u001b[0m                                 Traceback (most recent call last)",
      "\u001b[1;32m~\\AppData\\Local\\Temp\\ipykernel_13156\\329016045.py\u001b[0m in \u001b[0;36m<module>\u001b[1;34m\u001b[0m\n\u001b[0;32m      1\u001b[0m \u001b[1;31m# Lista de Bairros:\u001b[0m\u001b[1;33m\u001b[0m\u001b[1;33m\u001b[0m\u001b[0m\n\u001b[0;32m      2\u001b[0m \u001b[1;33m\u001b[0m\u001b[0m\n\u001b[1;32m----> 3\u001b[1;33m \u001b[0mbairros\u001b[0m \u001b[1;33m=\u001b[0m \u001b[0mdf\u001b[0m\u001b[1;33m.\u001b[0m\u001b[0mbairro\u001b[0m\u001b[1;33m.\u001b[0m\u001b[0munique\u001b[0m\u001b[1;33m(\u001b[0m\u001b[0msorted\u001b[0m\u001b[1;33m)\u001b[0m\u001b[1;33m.\u001b[0m\u001b[0mtolist\u001b[0m\u001b[1;33m(\u001b[0m\u001b[1;33m)\u001b[0m\u001b[1;33m\u001b[0m\u001b[1;33m\u001b[0m\u001b[0m\n\u001b[0m",
      "\u001b[1;31mTypeError\u001b[0m: unique() takes 1 positional argument but 2 were given"
     ]
    }
   ],
   "source": [
    "# Lista de Bairros:\n",
    "\n",
    "bairros = df.bairro.unique(sorted=True).tolist()"
   ]
  },
  {
   "cell_type": "code",
   "execution_count": 82,
   "metadata": {},
   "outputs": [
    {
     "data": {
      "text/plain": [
       "['bairros.pkl']"
      ]
     },
     "execution_count": 82,
     "metadata": {},
     "output_type": "execute_result"
    }
   ],
   "source": [
    "# Utilizando o pickle para exportar o modelo:\n",
    "\n",
    "joblib.dump(rf_final,'model.pkl')\n",
    "joblib.dump(target_encoder,'encoder.pkl')\n",
    "joblib.dump(scaler,'scaler.pkl')\n",
    "joblib.dump(bairros,'bairros.pkl')\n",
    "\n",
    "# Para Carregar o modelo:\n",
    "# modelo = joblib.load('model.pkl')"
   ]
  },
  {
   "cell_type": "code",
   "execution_count": 15,
   "metadata": {},
   "outputs": [],
   "source": [
    "# # Aplicando Target Encoder no Test:\n",
    "# X_new_encoded = target_encoder.transform(X_new[['bairro']])\n",
    "# X_new_encoded = X_new_encoded.join(X_new.drop('bairro', axis = 1))\n",
    "\n",
    "# # Aplicando MinMaxScaler no Test:\n",
    "# X_new_scaled = scaler.transform(X_new_encoded)\n",
    "\n",
    "# X_new_scaled"
   ]
  },
  {
   "cell_type": "code",
   "execution_count": 16,
   "metadata": {},
   "outputs": [],
   "source": [
    "# y_new = rf_final.predict(X_new_scaled)"
   ]
  },
  {
   "cell_type": "code",
   "execution_count": 17,
   "metadata": {},
   "outputs": [],
   "source": [
    "# y_new"
   ]
  },
  {
   "cell_type": "code",
   "execution_count": null,
   "metadata": {},
   "outputs": [],
   "source": []
  }
 ],
 "metadata": {
  "kernelspec": {
   "display_name": "base",
   "language": "python",
   "name": "python3"
  },
  "language_info": {
   "codemirror_mode": {
    "name": "ipython",
    "version": 3
   },
   "file_extension": ".py",
   "mimetype": "text/x-python",
   "name": "python",
   "nbconvert_exporter": "python",
   "pygments_lexer": "ipython3",
   "version": "3.9.13"
  },
  "orig_nbformat": 4
 },
 "nbformat": 4,
 "nbformat_minor": 2
}
